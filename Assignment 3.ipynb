{
 "cells": [
  {
   "cell_type": "markdown",
   "id": "167bacb3-defa-4d89-ada9-d9f7e24c0652",
   "metadata": {},
   "source": [
    "### 01. Prime Numbers"
   ]
  },
  {
   "cell_type": "code",
   "execution_count": 2,
   "id": "acd350d8-6fc9-4a0b-8917-24ab024f8d73",
   "metadata": {},
   "outputs": [
    {
     "name": "stdin",
     "output_type": "stream",
     "text": [
      "Enter a number:  2\n"
     ]
    },
    {
     "name": "stdout",
     "output_type": "stream",
     "text": [
      "It is a prime number\n"
     ]
    }
   ],
   "source": [
    "# number and convert it to an integer\n",
    "num = int(input(\"Enter a number: \"))\n",
    "\n",
    "# Check if the number is equal to 1\n",
    "if num == 1:\n",
    "    print(\"It is not a prime number\")  # 1 is not considered a prime number\n",
    "\n",
    "# Check if the number is greater than 1\n",
    "if num > 1:\n",
    "    # Loop through all numbers from 2 to num-1\n",
    "    for i in range(2, num):\n",
    "        # Check if num is divisible by i\n",
    "        if num % i == 0:\n",
    "            print(\"It is not a prime number\")  # num has a divisor other than 1 and itself, so it is not prime\n",
    "            break  # Exit the loop since we found a divisor\n",
    "    else:\n",
    "        print(\"It is a prime number\")  # num has no divisors other than 1 and itself, so it is prime\n",
    "\n",
    "        "
   ]
  },
  {
   "cell_type": "markdown",
   "id": "1d8ca3b8-9355-4050-b5b3-c8b3046d15a4",
   "metadata": {},
   "source": [
    "### 02. Product of Random Numbers"
   ]
  },
  {
   "cell_type": "code",
   "execution_count": 4,
   "id": "d3cdeb5a-2831-4d14-a2cf-f05912d0677b",
   "metadata": {},
   "outputs": [
    {
     "name": "stdout",
     "output_type": "stream",
     "text": [
      "What is 9 * 8?\n"
     ]
    },
    {
     "name": "stdin",
     "output_type": "stream",
     "text": [
      "Enter your answer:  72\n"
     ]
    },
    {
     "name": "stdout",
     "output_type": "stream",
     "text": [
      "Correct! Great job!\n"
     ]
    }
   ],
   "source": [
    "import random  # Import the random module to generate random numbers\n",
    "# Generate two random numbers: num1 between 1 and 15, and num2 between 1 and 10\n",
    "num1 = random.randint(1, 15)\n",
    "num2 = random.randint(1, 10)\n",
    "# Calculate the correct answer by multiplying the two random numbers\n",
    "correct_answer = num1 * num2\n",
    "# Display the multiplication question to the user\n",
    "print(f\"What is {num1} * {num2}?\")\n",
    "# Prompt the user to enter their answer and convert it to an integer\n",
    "user_answer = int(input(\"Enter your answer: \"))\n",
    "# Check if the user's answer is correct\n",
    "if user_answer == correct_answer:\n",
    "    print(\"Correct! Great job!\")  # Notify the user if their answer is correct\n",
    "else:\n",
    "    # Notify the user if their answer is incorrect and display the correct answer\n",
    "    print(f\"Incorrect. The correct answer is {correct_answer}.\")\n",
    "\n"
   ]
  },
  {
   "cell_type": "markdown",
   "id": "eb689cbe-cac1-4ff6-b053-0c1e6a00ea16",
   "metadata": {},
   "source": [
    "### 03.Squares of Even/Odd Numbers"
   ]
  },
  {
   "cell_type": "code",
   "execution_count": 6,
   "id": "018cb3ff-df0a-4606-bad9-aa18aa691d0f",
   "metadata": {},
   "outputs": [
    {
     "name": "stdout",
     "output_type": "stream",
     "text": [
      "The square of 101 is 10201\n",
      "The square of 103 is 10609\n",
      "The square of 105 is 11025\n",
      "The square of 107 is 11449\n",
      "The square of 109 is 11881\n",
      "The square of 111 is 12321\n",
      "The square of 113 is 12769\n",
      "The square of 115 is 13225\n",
      "The square of 117 is 13689\n",
      "The square of 119 is 14161\n",
      "The square of 121 is 14641\n",
      "The square of 123 is 15129\n",
      "The square of 125 is 15625\n",
      "The square of 127 is 16129\n",
      "The square of 129 is 16641\n",
      "The square of 131 is 17161\n",
      "The square of 133 is 17689\n",
      "The square of 135 is 18225\n",
      "The square of 137 is 18769\n",
      "The square of 139 is 19321\n",
      "The square of 141 is 19881\n",
      "The square of 143 is 20449\n",
      "The square of 145 is 21025\n",
      "The square of 147 is 21609\n",
      "The square of 149 is 22201\n",
      "The square of 151 is 22801\n",
      "The square of 153 is 23409\n",
      "The square of 155 is 24025\n",
      "The square of 157 is 24649\n",
      "The square of 159 is 25281\n",
      "The square of 161 is 25921\n",
      "The square of 163 is 26569\n",
      "The square of 165 is 27225\n",
      "The square of 167 is 27889\n",
      "The square of 169 is 28561\n",
      "The square of 171 is 29241\n",
      "The square of 173 is 29929\n",
      "The square of 175 is 30625\n",
      "The square of 177 is 31329\n",
      "The square of 179 is 32041\n",
      "The square of 181 is 32761\n",
      "The square of 183 is 33489\n",
      "The square of 185 is 34225\n",
      "The square of 187 is 34969\n",
      "The square of 189 is 35721\n",
      "The square of 191 is 36481\n",
      "The square of 193 is 37249\n",
      "The square of 195 is 38025\n",
      "The square of 197 is 38809\n",
      "The square of 199 is 39601\n"
     ]
    }
   ],
   "source": [
    "# Loop through all numbers from 100 to 200 (inclusive)\n",
    "for num in range(100, 201): \n",
    "    # Check if the number is odd (not divisible by 2)\n",
    "    if num % 2 != 0:  \n",
    "        # Print the square of the odd number\n",
    "        print(f\"The square of {num} is {num ** 2}\")  # Calculate the square of num using num ** 2 and print it"
   ]
  },
  {
   "cell_type": "code",
   "execution_count": 7,
   "id": "a55ac16b-c2b8-46e8-877d-208dca1bfd17",
   "metadata": {},
   "outputs": [
    {
     "name": "stdout",
     "output_type": "stream",
     "text": [
      "The square of 100 is 10000\n",
      "The square of 102 is 10404\n",
      "The square of 104 is 10816\n",
      "The square of 106 is 11236\n",
      "The square of 108 is 11664\n",
      "The square of 110 is 12100\n",
      "The square of 112 is 12544\n",
      "The square of 114 is 12996\n",
      "The square of 116 is 13456\n",
      "The square of 118 is 13924\n",
      "The square of 120 is 14400\n",
      "The square of 122 is 14884\n",
      "The square of 124 is 15376\n",
      "The square of 126 is 15876\n",
      "The square of 128 is 16384\n",
      "The square of 130 is 16900\n",
      "The square of 132 is 17424\n",
      "The square of 134 is 17956\n",
      "The square of 136 is 18496\n",
      "The square of 138 is 19044\n",
      "The square of 140 is 19600\n",
      "The square of 142 is 20164\n",
      "The square of 144 is 20736\n",
      "The square of 146 is 21316\n",
      "The square of 148 is 21904\n",
      "The square of 150 is 22500\n",
      "The square of 152 is 23104\n",
      "The square of 154 is 23716\n",
      "The square of 156 is 24336\n",
      "The square of 158 is 24964\n",
      "The square of 160 is 25600\n",
      "The square of 162 is 26244\n",
      "The square of 164 is 26896\n",
      "The square of 166 is 27556\n",
      "The square of 168 is 28224\n",
      "The square of 170 is 28900\n",
      "The square of 172 is 29584\n",
      "The square of 174 is 30276\n",
      "The square of 176 is 30976\n",
      "The square of 178 is 31684\n",
      "The square of 180 is 32400\n",
      "The square of 182 is 33124\n",
      "The square of 184 is 33856\n",
      "The square of 186 is 34596\n",
      "The square of 188 is 35344\n",
      "The square of 190 is 36100\n",
      "The square of 192 is 36864\n",
      "The square of 194 is 37636\n",
      "The square of 196 is 38416\n",
      "The square of 198 is 39204\n",
      "The square of 200 is 40000\n"
     ]
    }
   ],
   "source": [
    "# Loop through all numbers from 100 to 200 (inclusive)\n",
    "for num in range(100, 201): \n",
    "    # Check if the number is even (divisible by 2)\n",
    "    if num % 2 == 0:  \n",
    "        # Print the square of the even number\n",
    "        print(f\"The square of {num} is {num ** 2}\")  # Calculate the square of num using num ** 2 and print it"
   ]
  },
  {
   "cell_type": "markdown",
   "id": "3877df0b-7d75-4524-a792-cefd73a3fcd8",
   "metadata": {},
   "source": [
    "### 04.Word counter"
   ]
  },
  {
   "cell_type": "code",
   "execution_count": 9,
   "id": "8f4af94f-21e6-40f6-bddb-1f72056956d2",
   "metadata": {},
   "outputs": [
    {
     "name": "stdin",
     "output_type": "stream",
     "text": [
      "Enter some text:  heelo im aqsa friend aqsa\n"
     ]
    },
    {
     "name": "stdout",
     "output_type": "stream",
     "text": [
      "The number of words in the given text is: 5\n",
      "'heelo': 1\n",
      "'im': 1\n",
      "'aqsa': 2\n",
      "'friend': 1\n"
     ]
    }
   ],
   "source": [
    "def count_words(text):\n",
    "    # Split the input text into a list of words based on spaces\n",
    "    words = text.split()   \n",
    "    # Create an empty dictionary to store the frequency of each word\n",
    "    word_count = {}   \n",
    "    # Iterate through each word in the list of words\n",
    "    for word in words:\n",
    "        # Update the count for the word in the dictionary\n",
    "        # If the word is not already in the dictionary, it defaults to 0\n",
    "        word_count[word] = word_count.get(word, 0) + 1    \n",
    "    # Return the total number of words and the word count dictionary\n",
    "    return len(words), word_count\n",
    "# Get text input from the user\n",
    "input_text = input(\"Enter some text: \")\n",
    "# Call the count_words function and unpack the returned values\n",
    "total_words, word_count = count_words(input_text)\n",
    "# Print the total number of words in the input text\n",
    "print(f\"The number of words in the given text is: {total_words}\")\n",
    "# Iterate through the word count dictionary and print each word and its count\n",
    "for word, count in word_count.items():\n",
    "    print(f\"'{word}': {count}\")\n"
   ]
  },
  {
   "cell_type": "markdown",
   "id": "1df70e02-4b83-4bf2-abe2-5b2d24ce6e2d",
   "metadata": {},
   "source": [
    "### 05.Check for Palindrome"
   ]
  },
  {
   "cell_type": "code",
   "execution_count": 32,
   "id": "7a212d52-78a6-4dfd-ba5a-9a74ae014499",
   "metadata": {},
   "outputs": [
    {
     "name": "stdin",
     "output_type": "stream",
     "text": [
      "Enter string hello\n"
     ]
    },
    {
     "name": "stdout",
     "output_type": "stream",
     "text": [
      "Result: False\n"
     ]
    }
   ],
   "source": [
    "import re  # Import the regular expression module\n",
    "\n",
    "def is_palindrome(s):\n",
    "    # Remove all non-alphanumeric characters and convert to lowercase\n",
    "    p_string = re.sub(r'[^a-zA-Z0-9]', '', s).lower()\n",
    "    \n",
    "    # Check if the cleaned string is the same forwards and backwards\n",
    "    return p_string == p_string[::-1]\n",
    "\n",
    "input_string = input(\"Enter string\")\n",
    "result = is_palindrome(input_string)\n",
    "print(f'Result: {result}')"
   ]
  }
 ],
 "metadata": {
  "kernelspec": {
   "display_name": "Python 3 (ipykernel)",
   "language": "python",
   "name": "python3"
  },
  "language_info": {
   "codemirror_mode": {
    "name": "ipython",
    "version": 3
   },
   "file_extension": ".py",
   "mimetype": "text/x-python",
   "name": "python",
   "nbconvert_exporter": "python",
   "pygments_lexer": "ipython3",
   "version": "3.12.4"
  }
 },
 "nbformat": 4,
 "nbformat_minor": 5
}
